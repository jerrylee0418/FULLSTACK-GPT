{
 "cells": [
  {
   "cell_type": "code",
   "execution_count": 12,
   "metadata": {},
   "outputs": [
    {
     "name": "stdout",
     "output_type": "stream",
     "text": [
      "Here are three emojis:\n",
      "🚢💔🎶content='Here are three emojis:\\n🚢💔🎶'\n",
      "Here are three emojis:\n",
      "❄️👸⛄content='Here are three emojis:\\n❄️👸⛄'\n"
     ]
    }
   ],
   "source": [
    "\n",
    "# 3rd 과제, 영화이름으로 영화에 대한 정보를 답장하는 체인\n",
    "from langchain.chat_models import ChatOpenAI\n",
    "from langchain.prompts.few_shot import FewShotChatMessagePromptTemplate\n",
    "from langchain.prompts import ChatPromptTemplate, MessagesPlaceholder\n",
    "from langchain.memory import ConversationSummaryBufferMemory\n",
    "from langchain.schema.runnable import RunnablePassthrough\n",
    "\n",
    "llm = ChatOpenAI(temperature=0.1)\n",
    "\n",
    "memory = ConversationSummaryBufferMemory(\n",
    "    llm = llm,\n",
    "    max_token_limit=50,\n",
    "    return_messages=True,\n",
    ")\n",
    "\n",
    "examples = [\n",
    "    {\n",
    "        \"movie\": \"Top Gun\",\n",
    "        \"answer\": \"\"\"\n",
    "        Here are three emojis:\n",
    "        🛩️👨‍✈️🔥\n",
    "        \"\"\",\n",
    "    },\n",
    "    {\n",
    "        \"movie\": \"The Godfather\",\n",
    "        \"answer\": \"\"\"\n",
    "        Here are three emojis:\n",
    "        👨‍👨‍👦🔫🍝 \n",
    "        \"\"\",\n",
    "    },\n",
    "]\n",
    "\n",
    "example_prompt = ChatPromptTemplate.from_messages(\n",
    "    [\n",
    "        (\"human\", \"You should take the title of a movie and reply with three emojis that represent the {movie}?\"),\n",
    "        (\"ai\", \"{answer}\"),\n",
    "    ]\n",
    ")\n",
    "\n",
    "example_prompt = FewShotChatMessagePromptTemplate(\n",
    "    example_prompt=example_prompt,\n",
    "    examples=examples,\n",
    ")\n",
    "\n",
    "final_prompt = ChatPromptTemplate.from_messages(\n",
    "    [\n",
    "        (\"system\", \"You are a movie expert, you give three emojis that represent the movie.\"),\n",
    "        example_prompt,\n",
    "        MessagesPlaceholder(variable_name=\"history\"),\n",
    "        (\"human\", \"You should take the title of a movie and reply with three emojis that represent the{movie}?\"),\n",
    "    ]\n",
    ")\n",
    "\n",
    "def load_memory(_):\n",
    "    return memory.load_memory_variables({})[\"history\"]\n",
    "\n",
    "chain = RunnablePassthrough.assign(history=load_memory) | final_prompt | chat\n",
    "\n",
    "\n",
    "def invoke_chain(movie):\n",
    "    result = chain.invoke({\"movie\": movie})\n",
    "    memory.save_context(\n",
    "        {\"input\" : movie },\n",
    "        {\"output\" : result.content},\n",
    "    )\n",
    "    print(result)\n",
    "\n",
    "invoke_chain(\"Titanic\")\n",
    "\n",
    "invoke_chain(\"Frozen\")"
   ]
  },
  {
   "cell_type": "code",
   "execution_count": 16,
   "metadata": {},
   "outputs": [
    {
     "name": "stdout",
     "output_type": "stream",
     "text": [
      "The movie you asked about first is \"Titanic.\"content='The movie you asked about first is \"Titanic.\"'\n"
     ]
    }
   ],
   "source": [
    "invoke_chain(\"Please tell me what is the movies I asked first?\")"
   ]
  },
  {
   "cell_type": "code",
   "execution_count": null,
   "metadata": {},
   "outputs": [],
   "source": []
  }
 ],
 "metadata": {
  "kernelspec": {
   "display_name": "env",
   "language": "python",
   "name": "python3"
  },
  "language_info": {
   "codemirror_mode": {
    "name": "ipython",
    "version": 3
   },
   "file_extension": ".py",
   "mimetype": "text/x-python",
   "name": "python",
   "nbconvert_exporter": "python",
   "pygments_lexer": "ipython3",
   "version": "3.11.0"
  }
 },
 "nbformat": 4,
 "nbformat_minor": 2
}
