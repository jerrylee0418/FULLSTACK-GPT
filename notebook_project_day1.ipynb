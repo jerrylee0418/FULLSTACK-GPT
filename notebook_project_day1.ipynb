{
 "cells": [
  {
   "cell_type": "code",
   "execution_count": 16,
   "metadata": {},
   "outputs": [
    {
     "name": "stdout",
     "output_type": "stream",
     "text": [
      "Async callbacks,\n",
      "Hoisting and closures confuse,\n",
      "JavaScript, my friend.Python"
     ]
    },
    {
     "data": {
      "text/plain": [
       "AIMessageChunk(content='Python')"
      ]
     },
     "execution_count": 16,
     "metadata": {},
     "output_type": "execute_result"
    }
   ],
   "source": [
    "from langchain.chat_models import ChatOpenAI\n",
    "from langchain.prompts import ChatPromptTemplate\n",
    "from langchain.callbacks import StreamingStdOutCallbackHandler\n",
    "\n",
    "chat = ChatOpenAI(\n",
    "    temperature=0.1,\n",
    "    streaming=True,\n",
    "    callbacks=[\n",
    "        StreamingStdOutCallbackHandler(),  \n",
    "    ],\n",
    ")\n",
    "\n",
    "\n",
    "writing_Haiku_prompt = ChatPromptTemplate.from_messages(\n",
    "    [\n",
    "        (\n",
    "            \"system\",\n",
    "            \"You are a world-class international Haiku writer about programming languages. You write Haiku in a humorous style.\",\n",
    "        ),\n",
    "        (\"human\", \"I want to write a Haiku about {programming_language} .\"),\n",
    "    ]\n",
    ")\n",
    "\n",
    "writing_Haiku_chain = writing_Haiku_prompt | chat\n",
    "\n",
    "\n",
    "explaining_Haiku_prompt = ChatPromptTemplate.from_messages(\n",
    "    [\n",
    "        (\n",
    "            \"system\",\n",
    "            \"You are specialized in explaining Haiku. Provide the name of a programming language first, and respond with a haiku and its explanation.\",\n",
    "        ),\n",
    "        (\"human\", \"{haiku}\"),\n",
    "    ]\n",
    ")\n",
    "\n",
    "explaining_Haiku_chain = explaining_Haiku_prompt | chat\n",
    "\n",
    "\n",
    "final_chain = {\"haiku\": writing_Haiku_chain} | explaining_Haiku_chain\n",
    "\n",
    "\n",
    "final_chain.invoke({\"programming_language\": \"javascript\"})\n",
    "\n"
   ]
  },
  {
   "cell_type": "code",
   "execution_count": null,
   "metadata": {},
   "outputs": [],
   "source": []
  }
 ],
 "metadata": {
  "kernelspec": {
   "display_name": "env",
   "language": "python",
   "name": "python3"
  },
  "language_info": {
   "codemirror_mode": {
    "name": "ipython",
    "version": 3
   },
   "file_extension": ".py",
   "mimetype": "text/x-python",
   "name": "python",
   "nbconvert_exporter": "python",
   "pygments_lexer": "ipython3",
   "version": "3.11.0"
  }
 },
 "nbformat": 4,
 "nbformat_minor": 2
}
