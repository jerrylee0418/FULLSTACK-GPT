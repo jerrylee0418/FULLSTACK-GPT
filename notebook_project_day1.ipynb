{
 "cells": [
  {
   "cell_type": "code",
   "execution_count": 4,
   "metadata": {},
   "outputs": [
    {
     "name": "stdout",
     "output_type": "stream",
     "text": [
      "Async callbacks,\n",
      "Arrow functions everywhere,\n",
      "JavaScript, my friend.JavaScript, my friend,\n",
      "Async callbacks, arrows too,\n",
      "Coding world, we blend.\n",
      "\n",
      "This haiku captures the essence of JavaScript, a popular programming language known for its asynchronous nature and the use of arrow functions. The poet expresses familiarity and comfort with JavaScript, referring to it as a friend in the coding world."
     ]
    },
    {
     "data": {
      "text/plain": [
       "AIMessageChunk(content='JavaScript, my friend,\\nAsync callbacks, arrows too,\\nCoding world, we blend.\\n\\nThis haiku captures the essence of JavaScript, a popular programming language known for its asynchronous nature and the use of arrow functions. The poet expresses familiarity and comfort with JavaScript, referring to it as a friend in the coding world.')"
      ]
     },
     "execution_count": 4,
     "metadata": {},
     "output_type": "execute_result"
    }
   ],
   "source": [
    "from langchain.chat_models import ChatOpenAI\n",
    "from langchain.prompts import ChatPromptTemplate\n",
    "from langchain.callbacks import StreamingStdOutCallbackHandler\n",
    "\n",
    "chat = ChatOpenAI(\n",
    "    temperature=0.1,\n",
    "    streaming=True,\n",
    "    callbacks=[\n",
    "        StreamingStdOutCallbackHandler(),  \n",
    "    ],\n",
    ")\n",
    "\n",
    "# 프로그래밍 언어에 대해 시쓰는 모델\n",
    "writing_Haiku_prompt = ChatPromptTemplate.from_messages(\n",
    "    [\n",
    "        (\n",
    "            \"system\",\n",
    "            \"You are a world-class international Haiku writer about programming languages. You write Haiku in a humorous style.\",\n",
    "        ),\n",
    "        (\"human\", \"I want to write a Haiku about {programming_language} .\"),\n",
    "    ]\n",
    ")\n",
    "\n",
    "writing_Haiku_chain = writing_Haiku_prompt | chat\n",
    "\n",
    "# 시를 설명하는 모델\n",
    "explaining_Haiku_prompt = ChatPromptTemplate.from_messages(\n",
    "    [\n",
    "        (\n",
    "            \"system\",\n",
    "            \"You are specialized in explaining Haiku. Provide the name of a programming language and respond with a haiku and its explanation.\", \n",
    "        ),\n",
    "        (\"human\", \"{haiku}\"),\n",
    "    ]\n",
    ")\n",
    "\n",
    "explaining_Haiku_chain = explaining_Haiku_prompt | chat\n",
    "\n",
    "#두 체인 연결\n",
    "final_chain = {\"haiku\": writing_Haiku_chain} | explaining_Haiku_chain\n",
    "\n",
    "\n",
    "final_chain.invoke({\"programming_language\": \"javascript\"})\n"
   ]
  }
 ],
 "metadata": {
  "kernelspec": {
   "display_name": "env",
   "language": "python",
   "name": "python3"
  },
  "language_info": {
   "codemirror_mode": {
    "name": "ipython",
    "version": 3
   },
   "file_extension": ".py",
   "mimetype": "text/x-python",
   "name": "python",
   "nbconvert_exporter": "python",
   "pygments_lexer": "ipython3",
   "version": "3.11.0"
  }
 },
 "nbformat": 4,
 "nbformat_minor": 2
}
