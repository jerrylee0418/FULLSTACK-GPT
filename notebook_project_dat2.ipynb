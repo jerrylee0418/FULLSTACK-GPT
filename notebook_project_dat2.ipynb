{
 "cells": [
  {
   "cell_type": "code",
   "execution_count": 9,
   "metadata": {},
   "outputs": [
    {
     "name": "stdout",
     "output_type": "stream",
     "text": [
      "\n",
      "        Here is what I know:\n",
      "        Director: Bong Joon-ho\n",
      "        Main Cast: Song Kang-ho, Lee Sun-kyun, Cho Yeo-jeong\n",
      "        Budget: $11 million\n",
      "        Box Office Revenue: $266.8 million\n",
      "        Genre: Thriller, Drama, Dark Comedy\n",
      "        Brief Synopsis: A poor family schemes to infiltrate a wealthy household, leading to unexpected and darkly comedic consequences.\n",
      "        "
     ]
    },
    {
     "data": {
      "text/plain": [
       "AIMessageChunk(content='\\n        Here is what I know:\\n        Director: Bong Joon-ho\\n        Main Cast: Song Kang-ho, Lee Sun-kyun, Cho Yeo-jeong\\n        Budget: $11 million\\n        Box Office Revenue: $266.8 million\\n        Genre: Thriller, Drama, Dark Comedy\\n        Brief Synopsis: A poor family schemes to infiltrate a wealthy household, leading to unexpected and darkly comedic consequences.\\n        ')"
      ]
     },
     "execution_count": 9,
     "metadata": {},
     "output_type": "execute_result"
    }
   ],
   "source": [
    "\n",
    "# 2nd 과제, 영화이름으로 영화에 대한 정보를 답장하는 체인\n",
    "from langchain.chat_models import ChatOpenAI\n",
    "from langchain.prompts.few_shot import FewShotChatMessagePromptTemplate\n",
    "from langchain.callbacks import StreamingStdOutCallbackHandler\n",
    "from langchain.prompts import ChatMessagePromptTemplate, ChatPromptTemplate\n",
    "\n",
    "chat = ChatOpenAI(\n",
    "    temperature=0.1,\n",
    "    streaming=True,\n",
    "    callbacks=[\n",
    "        StreamingStdOutCallbackHandler(),\n",
    "    ],\n",
    ")\n",
    "\n",
    "\n",
    "examples = [\n",
    "    {\n",
    "        \"movie\": \"Avatar\",\n",
    "        \"answer\": \"\"\"\n",
    "        Here is what I know:\n",
    "        Director: James Cameron\n",
    "        Main Cast: Sam Worthington, Zoe Saldana, Sigourney Weaver\n",
    "        Budget: $237 million\n",
    "        Box Office Revenue: $2.92 billion\n",
    "        Genre: Sci-Fi, Adventure\n",
    "        Brief Synopsis: A paraplegic Marine is sent to the moon Pandora on a unique mission but becomes torn between following orders and protecting the world he feels is his home.\n",
    "        \"\"\",\n",
    "    },\n",
    "    {\n",
    "        \"movie\": \"Avengers: Endgame\",\n",
    "        \"answer\": \"\"\"\n",
    "        Here is what I know:\n",
    "        Director: Anthony Russo, Joe Russo\n",
    "        Main Cast: Robert Downey Jr., Chris Evans, Scarlett Johansson, Mark Ruffalo\n",
    "        Budget: $356 million\n",
    "        Box Office Revenue: $2.79 billion\n",
    "        Genre: Superhero, Action, Sci-Fi\n",
    "        Brief Synopsis: After the devastating events of Infinity War, the Avengers assemble once more to reverse Thanos' actions and restore balance to the universe.\n",
    "        \"\"\",\n",
    "    },\n",
    "    {\n",
    "        \"movie\": \"Titanic\",\n",
    "        \"answer\": \"\"\"\n",
    "        Here is what I know:\n",
    "        Director: James Cameron\n",
    "        Main Cast: Leonardo DiCaprio, Kate Winslet, Billy Zane\n",
    "        Budget: $200 million\n",
    "        Box Office Revenue: $2.26 billion\n",
    "        Genre: Romance, Drama\n",
    "        Brief Synopsis: A young aristocrat falls in love with a kind-hearted but poor artist aboard the ill-fated R.M.S. Titanic.\n",
    "        \"\"\",\n",
    "    },\n",
    "]\n",
    "\n",
    "example_prompt = ChatPromptTemplate.from_messages(\n",
    "    [\n",
    "        (\"human\", \"Please give me the information about  {movie}?\"),\n",
    "        (\"ai\", \"{answer}\"),\n",
    "    ]\n",
    ")\n",
    "\n",
    "example_prompt = FewShotChatMessagePromptTemplate(\n",
    "    example_prompt=example_prompt,\n",
    "    examples=examples,\n",
    ")\n",
    "\n",
    "final_prompt = ChatPromptTemplate.from_messages(\n",
    "    [\n",
    "        (\"system\", \"You are a movie expert, you give short answers.\"),\n",
    "        example_prompt,\n",
    "        (\"human\", \"Please give me the information about {movie}?\"),\n",
    "    ]\n",
    ")\n",
    "\n",
    "chain = final_prompt | chat\n",
    "\n",
    "chain.invoke({\"movie\": \"Parasite\"})"
   ]
  }
 ],
 "metadata": {
  "kernelspec": {
   "display_name": "env",
   "language": "python",
   "name": "python3"
  },
  "language_info": {
   "codemirror_mode": {
    "name": "ipython",
    "version": 3
   },
   "file_extension": ".py",
   "mimetype": "text/x-python",
   "name": "python",
   "nbconvert_exporter": "python",
   "pygments_lexer": "ipython3",
   "version": "3.11.0"
  }
 },
 "nbformat": 4,
 "nbformat_minor": 2
}
